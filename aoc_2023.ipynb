{
 "cells": [
  {
   "cell_type": "code",
   "execution_count": 85,
   "id": "afb619e9-e6cd-4ed2-9cb3-55dfe59979a4",
   "metadata": {},
   "outputs": [],
   "source": [
    "import numpy as np\n",
    "import re \n",
    "from functools import reduce\n",
    "import operator"
   ]
  },
  {
   "cell_type": "markdown",
   "id": "ef857d5e-64f7-41ef-aee5-61dc201c19b0",
   "metadata": {},
   "source": [
    "# Day 1"
   ]
  },
  {
   "cell_type": "markdown",
   "id": "078895c7-d438-4e0b-b462-c4053ce6b625",
   "metadata": {},
   "source": [
    "## Part 1"
   ]
  },
  {
   "cell_type": "code",
   "execution_count": 2,
   "id": "86f9e5d7-2c33-48c8-bdf2-5aabf405e712",
   "metadata": {},
   "outputs": [],
   "source": [
    "with open(r'data\\adventofcode.com_2023_day_1_input.txt') as f:\n",
    "    contents = f.readlines()"
   ]
  },
  {
   "cell_type": "code",
   "execution_count": 13,
   "id": "58365a14-db0e-430c-8c42-0efe82de504a",
   "metadata": {},
   "outputs": [
    {
     "data": {
      "text/plain": [
       "54634"
      ]
     },
     "execution_count": 13,
     "metadata": {},
     "output_type": "execute_result"
    }
   ],
   "source": [
    "sum_ = 0\n",
    "for content in contents:\n",
    "    digits = re.findall('\\d', content)\n",
    "    sum_ += int(digits[0] + digits[-1])\n",
    "sum_"
   ]
  },
  {
   "cell_type": "markdown",
   "id": "cec1da81-3452-4f4d-801f-160bc4571089",
   "metadata": {},
   "source": [
    "## Part 2"
   ]
  },
  {
   "cell_type": "code",
   "execution_count": 1,
   "id": "2637ec17-bb90-4f77-8a29-eb97a166efac",
   "metadata": {},
   "outputs": [],
   "source": [
    "with open(r'data\\adventofcode.com_2023_day_1_input.txt') as f:\n",
    "    contents = f.readlines()"
   ]
  },
  {
   "cell_type": "code",
   "execution_count": 2,
   "id": "79698faa-eced-4e88-a231-a9f7b78753e8",
   "metadata": {},
   "outputs": [],
   "source": [
    "word_to_digit = {'one': '1', 'two': '2', 'three': '3', 'four': '4', 'five': '5', \n",
    "                 'six': '6', 'seven': '7', 'eight': '8', 'nine': '9'}\n",
    "reverse_word_to_digit = {'eno': '1', 'owt': '2', 'eerht': '3', 'ruof': '4', \n",
    "                 'evif': '5', 'xis': '6', 'neves': '7', 'thgie': '8', 'enin': '9'}"
   ]
  },
  {
   "cell_type": "code",
   "execution_count": 17,
   "id": "cf165194-7d28-445e-ab4a-b1a31239359f",
   "metadata": {},
   "outputs": [
    {
     "data": {
      "text/plain": [
       "53855"
      ]
     },
     "execution_count": 17,
     "metadata": {},
     "output_type": "execute_result"
    }
   ],
   "source": [
    "sum_ = 0\n",
    "for content in contents:\n",
    "    digits_to = re.findall('\\d|one|two|three|four|five|six|seven|eight|nine', content)\n",
    "    digits_from = re.findall('\\d|eno|owt|eerht|ruof|evif|xis|neves|thgie|enin', content[::-1])\n",
    "    sum_ += int(word_to_digit.get(digits_to[0], digits_to[0]) + \n",
    "                reverse_word_to_digit.get(digits_from[0], digits_from[0]))\n",
    "sum_"
   ]
  },
  {
   "cell_type": "markdown",
   "id": "7ba70db9-6025-47ad-93f5-59173285080e",
   "metadata": {},
   "source": [
    "# Day 2"
   ]
  },
  {
   "cell_type": "markdown",
   "id": "41e44594-8507-414b-86e9-ec20636f5156",
   "metadata": {},
   "source": [
    "## Part 1"
   ]
  },
  {
   "cell_type": "code",
   "execution_count": 78,
   "id": "55bf2eee-a034-4619-9f96-f49b2f201ba8",
   "metadata": {},
   "outputs": [],
   "source": [
    "with open(r'data\\adventofcode.com_2023_day_2_input.txt') as f:\n",
    "    contents = f.readlines()"
   ]
  },
  {
   "cell_type": "code",
   "execution_count": 79,
   "id": "1418b75c-6719-42ec-9ac8-ad866f146a70",
   "metadata": {},
   "outputs": [],
   "source": [
    "color_to_num = {'red': 12, 'green': 13, 'blue': 14}"
   ]
  },
  {
   "cell_type": "code",
   "execution_count": 80,
   "id": "4f7d50b0-fd02-4b46-9642-55397d7d2a0d",
   "metadata": {},
   "outputs": [],
   "source": [
    "def is_valid_game(game):\n",
    "    id_, string = game.split(': ')\n",
    "    sets = re.split('; ', string)\n",
    "    for set_ in sets:\n",
    "        pairs = re.split(', ', set_)\n",
    "        for pair in pairs:\n",
    "            num, color = pair.split()\n",
    "            if color_to_num[color] < int(num):\n",
    "                return 0\n",
    "    return int(id_.split()[-1])"
   ]
  },
  {
   "cell_type": "code",
   "execution_count": 99,
   "id": "2eaea54a-c2d0-4a19-8f9b-c68d89727110",
   "metadata": {},
   "outputs": [
    {
     "data": {
      "text/plain": [
       "2776"
      ]
     },
     "execution_count": 99,
     "metadata": {},
     "output_type": "execute_result"
    }
   ],
   "source": [
    "sum(is_valid_game(content) for content in contents)"
   ]
  },
  {
   "cell_type": "markdown",
   "id": "cc1704e9-d0e0-41b8-9bf9-8f3cf7ccf140",
   "metadata": {},
   "source": [
    "# Part 2"
   ]
  },
  {
   "cell_type": "code",
   "execution_count": 96,
   "id": "a350f520-297a-4924-9a50-f075c42a23c7",
   "metadata": {},
   "outputs": [],
   "source": [
    "def get_set_power(game, colors):\n",
    "    min_colors_need = {}\n",
    "    string = game.split(': ')[1]\n",
    "    sets = re.split('; ', string)\n",
    "    for set_ in sets:\n",
    "        pairs = re.split(', ', set_)\n",
    "        for pair in pairs:\n",
    "            num, color = pair.split()\n",
    "            min_colors_need[color] = max(int(num), min_colors_need.get(color, 0))\n",
    "    return reduce(operator.mul, [min_colors_need.get(color, 0) for color in colors], 1)"
   ]
  },
  {
   "cell_type": "code",
   "execution_count": 98,
   "id": "3e822142-e8e0-4e2d-b5bd-d418aeaed681",
   "metadata": {},
   "outputs": [
    {
     "data": {
      "text/plain": [
       "68638"
      ]
     },
     "execution_count": 98,
     "metadata": {},
     "output_type": "execute_result"
    }
   ],
   "source": [
    "sum(get_set_power(content, colors) for content in contents)"
   ]
  },
  {
   "cell_type": "code",
   "execution_count": null,
   "id": "2964c408-f9ef-40ea-97d3-638dabd8110d",
   "metadata": {},
   "outputs": [],
   "source": []
  }
 ],
 "metadata": {
  "kernelspec": {
   "display_name": "Python 3 (ipykernel)",
   "language": "python",
   "name": "python3"
  },
  "language_info": {
   "codemirror_mode": {
    "name": "ipython",
    "version": 3
   },
   "file_extension": ".py",
   "mimetype": "text/x-python",
   "name": "python",
   "nbconvert_exporter": "python",
   "pygments_lexer": "ipython3",
   "version": "3.9.13"
  }
 },
 "nbformat": 4,
 "nbformat_minor": 5
}
